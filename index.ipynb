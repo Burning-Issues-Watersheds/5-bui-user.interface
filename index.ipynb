{
  "cells": [
    {
      "cell_type": "raw",
      "metadata": {},
      "source": [
        "---\n",
        "title: \"Burning Questions: The Role of Wildfires in Watershed Functioning\"\n",
        "---"
      ],
      "id": "ed53537d"
    },
    {
      "cell_type": "markdown",
      "metadata": {},
      "source": [
        "![](https://raw.githubusercontent.com/burning-issues/comm-assets/main/wildfires.png){fig-alt=\"Intense fire consuming trees in a forest\" fig-align=\"center\"}\n",
        "\n",
        "# Welcome!\n",
        "\n",
        "This page is the user-friendly face of our GitHub repository for this project.\n",
        "\n",
        "With your help we want to identify top priorities and unanswered questions on the cascading impacts of fires in watersheds.\n",
        "\n",
        "More specifically, our objective is to identify, assess, and collate currently unanswered research questions on the ecosystem biogeochemical impacts of wildfires.\n",
        "\n",
        "We will synthesize emergent themes and identify key research priorities in this field. We seek to do this from a community perspective and solicit researchers to share their viewpoints.\n",
        "\n",
        "# Our initial survey\n",
        "\n",
        "We have got responses from 67 wildfire scientists to the following questions:\n",
        "\n",
        "-   In your opinion, which are 2 of the most **pressing questions** that need to be addressed to further our understanding of wildfire impacts on biogeochemical cycling in watersheds.\n",
        "-   What are the most important **pathways** towards better integrating fire science across scientific disciplines?\n",
        "-   What are the key **roadblocks** towards a more holistic understanding of the cumulative spatiotemporal impacts of wildfires in terrestrial and aquatic environments across both short and long timescales?\n",
        "\n",
        "# Getting involved\n",
        "\n",
        "If you are interested in getting involved with this project or future efforts related to this work, please contact us at: burning.issues.community\\@pnnl.gov\n",
        "\n",
        "# Introduce yourself!\n",
        "\n",
        "\n",
        "```{html}\n",
        "<script>\n",
        "if (window.location.href.indexOf('welcome-page') > -1) {\n",
        "  document.write(<script src=\"https://giscus.app/client.js\"\n",
        "                  data-repo=\"burning-issues-watersheds/5-bui-user.interface\"\n",
        "                  data-repo-id=\"R_kgDOIPVoJg\" \n",
        "                  data-mapping=\"number\" \n",
        "                  data-term=\"5\" \n",
        "                  data-reactions-enabled=\"1\"\n",
        "                  data-emit-metadata=\"0\" \n",
        "                  data-input-position=\"top\"\n",
        "                  data-theme=\"preferred_color_scheme\"\n",
        "                  data-lang=\"en\" \n",
        "                  data-loading=\"lazy\" \n",
        "                  crossorigin=\"anonymous\" \n",
        "                  async> \n",
        "                  </script>);\n",
        "}\n",
        "</script>\n",
        "```"
      ],
      "id": "c7b45bbd"
    }
  ],
  "metadata": {
    "kernelspec": {
      "display_name": "Python 3",
      "language": "python",
      "name": "python3"
    }
  },
  "nbformat": 4,
  "nbformat_minor": 5
}